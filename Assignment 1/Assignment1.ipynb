{
  "nbformat": 4,
  "nbformat_minor": 0,
  "metadata": {
    "colab": {
      "name": "Assignment1.ipynb",
      "provenance": [],
      "collapsed_sections": []
    },
    "kernelspec": {
      "name": "python3",
      "display_name": "Python 3"
    },
    "language_info": {
      "name": "python"
    }
  },
  "cells": [
    {
      "cell_type": "code",
      "metadata": {
        "colab": {
          "base_uri": "https://localhost:8080/"
        },
        "id": "nK-Ow3yfpmbQ",
        "outputId": "0e0d5c7d-3b69-49c9-e6be-81e3cf662e7e"
      },
      "source": [
        "#Solution 1.1\n",
        "import numpy as ny\n",
        "print('Solution of 1.1 :')\n",
        "print(\"Array of 10 zeros : \")\n",
        "zrs = ny.zeros(10)\n",
        "print(zrs)\n",
        "print(\"Array of 10 ones :\")\n",
        "ones = ny.ones(10)\n",
        "print(ones)\n",
        "print(\"Array of 10 fives :\")\n",
        "fives = ny.ones(10)*5\n",
        "print(fives)"
      ],
      "execution_count": null,
      "outputs": [
        {
          "output_type": "stream",
          "text": [
            "Solution of 1.1 :\n",
            "Array of 10 zeros : \n",
            "[0. 0. 0. 0. 0. 0. 0. 0. 0. 0.]\n",
            "Array of 10 ones :\n",
            "[1. 1. 1. 1. 1. 1. 1. 1. 1. 1.]\n",
            "Array of 10 fives :\n",
            "[5. 5. 5. 5. 5. 5. 5. 5. 5. 5.]\n"
          ],
          "name": "stdout"
        }
      ]
    },
    {
      "cell_type": "code",
      "metadata": {
        "colab": {
          "base_uri": "https://localhost:8080/"
        },
        "id": "HYqQuE1sqMNo",
        "outputId": "7c8bfe6b-be71-4bbc-a709-891123c3bed9"
      },
      "source": [
        "# Solution 1.2\n",
        "print('\\nSolution of 1.2: ')\n",
        "print('All even intergers b/w 10 to 50 ')\n",
        "even_num = ny.arange(10,50,2)\n",
        "print(even_num)\n"
      ],
      "execution_count": null,
      "outputs": [
        {
          "output_type": "stream",
          "text": [
            "\n",
            "Solution of 1.2: \n",
            "All even intergers b/w 10 to 50 \n",
            "[10 12 14 16 18 20 22 24 26 28 30 32 34 36 38 40 42 44 46 48]\n"
          ],
          "name": "stdout"
        }
      ]
    },
    {
      "cell_type": "code",
      "metadata": {
        "colab": {
          "base_uri": "https://localhost:8080/"
        },
        "id": "E-WL9i37qUCr",
        "outputId": "06b02547-2ca3-4243-d3d5-d43c8398d529"
      },
      "source": [
        "# Solution 1.3\n",
        "print('Solution of 1.3 ')\n",
        "print('Random number b/w 0 and 1')\n",
        "rnd = ny.random.uniform(0,1)     #uniform is use for \n",
        "print(rnd)"
      ],
      "execution_count": null,
      "outputs": [
        {
          "output_type": "stream",
          "text": [
            "Solution of 1.3 \n",
            "Random number b/w 0 and 1\n",
            "0.21373701141108403\n"
          ],
          "name": "stdout"
        }
      ]
    },
    {
      "cell_type": "code",
      "metadata": {
        "colab": {
          "base_uri": "https://localhost:8080/"
        },
        "id": "oAk8atiHq4xQ",
        "outputId": "704e43ca-5754-4577-c666-e54cb8911e95"
      },
      "source": [
        "# #solution 1.4\n",
        "print(\"Solution 1.4\") \n",
        "rndom = ny.random.rand(3,3)        # for create a random matrix of size 3x3\n",
        "text_file = open(\"text.txt\", \"w\")\n",
        "for row in rndom:\n",
        "    ny.savetxt(text_file,row)\n",
        "text_file.close()\n",
        "\n",
        "mtx = ny.loadtxt(\"text.txt\").reshape(3,3)\n",
        "print(mtx)"
      ],
      "execution_count": null,
      "outputs": [
        {
          "output_type": "stream",
          "text": [
            "Solution 1.4\n",
            "[[0.04909855 0.70179174 0.28986388]\n",
            " [0.26639503 0.51261776 0.77433616]\n",
            " [0.65739125 0.77913454 0.6109573 ]]\n"
          ],
          "name": "stdout"
        }
      ]
    },
    {
      "cell_type": "code",
      "metadata": {
        "id": "eiVb0ZrOrysk"
      },
      "source": [
        "# Solution 2.1\n",
        "print('Solution od 2.1 : ')\n",
        "# # using numpy \n",
        "# from PIL import Image\n",
        "# import numpy as pnd\n",
        "# img = Image.open(\"Nature.jpg\")\n",
        "# imgtomatx = pnd.asarray(img)\n",
        "# print(imgtomatx.shape)\n",
        "\n",
        "# using pandas\n",
        "from PIL import Image\n",
        "import pandas as pnd\n",
        "img = Image.open('nature.jpg')\n",
        "mtx = pnd.arrays(img)\n",
        "print(mtx.shape)"
      ],
      "execution_count": null,
      "outputs": []
    },
    {
      "cell_type": "code",
      "metadata": {
        "colab": {
          "base_uri": "https://localhost:8080/"
        },
        "id": "9u0dQfzhsAgX",
        "outputId": "8372be1f-6ee9-4987-f50c-2aaf018b7714"
      },
      "source": [
        "# Solution 2.3\n",
        "print(\"\\nSolution 2.3 :\")\n",
        "import pandas as pds\n",
        "from datetime import date\n",
        "Today_date = pds.to_datetime(\"today\").date()\n",
        "print(\"Today's date is :\"+str(Today_date))\n",
        "\n"
      ],
      "execution_count": null,
      "outputs": [
        {
          "output_type": "stream",
          "text": [
            "\n",
            "Solution 2.3 :\n",
            "Today's date is :2021-08-16\n"
          ],
          "name": "stdout"
        }
      ]
    },
    {
      "cell_type": "code",
      "metadata": {
        "colab": {
          "base_uri": "https://localhost:8080/",
          "height": 334
        },
        "id": "tIStvUFgsN5J",
        "outputId": "1d2210ca-ca4c-49e6-e859-7f5241aec5e6"
      },
      "source": [
        "# Solution 3\n",
        "from datetime import date\n",
        "def Age_Cal(DOB):\n",
        "    Tdate = date.today()\n",
        "    try:\n",
        "        bth = DOB.replace(year=Tdate.year)\n",
        "    except ValueError:\n",
        "        bth = DOB.replace(year=Tdate.year, month=DOB.month+1,day = 1)\n",
        "    if bth > Tdate:\n",
        "        return (Tdate.year - DOB.year - 1)\n",
        "    else:\n",
        "        return (Tdate.year - DOB.year)\n",
        "\n",
        "DOB = input(\"Enter your DOB  in dd/md/yyyy format : \")\n",
        "print(Age_Cal(DOB))\n"
      ],
      "execution_count": null,
      "outputs": [
        {
          "output_type": "stream",
          "text": [
            "Enter your DOB  in dd/md/yyyy format : 12/07/2002\n"
          ],
          "name": "stdout"
        },
        {
          "output_type": "error",
          "ename": "TypeError",
          "evalue": "ignored",
          "traceback": [
            "\u001b[0;31m---------------------------------------------------------------------------\u001b[0m",
            "\u001b[0;31mTypeError\u001b[0m                                 Traceback (most recent call last)",
            "\u001b[0;32m<ipython-input-16-20f935546aa3>\u001b[0m in \u001b[0;36m<module>\u001b[0;34m()\u001b[0m\n\u001b[1;32m     13\u001b[0m \u001b[0;34m\u001b[0m\u001b[0m\n\u001b[1;32m     14\u001b[0m \u001b[0mDOB\u001b[0m \u001b[0;34m=\u001b[0m \u001b[0minput\u001b[0m\u001b[0;34m(\u001b[0m\u001b[0;34m\"Enter your DOB  in dd/md/yyyy format : \"\u001b[0m\u001b[0;34m)\u001b[0m\u001b[0;34m\u001b[0m\u001b[0;34m\u001b[0m\u001b[0m\n\u001b[0;32m---> 15\u001b[0;31m \u001b[0mprint\u001b[0m\u001b[0;34m(\u001b[0m\u001b[0mAge_Cal\u001b[0m\u001b[0;34m(\u001b[0m\u001b[0mDOB\u001b[0m\u001b[0;34m)\u001b[0m\u001b[0;34m)\u001b[0m\u001b[0;34m\u001b[0m\u001b[0;34m\u001b[0m\u001b[0m\n\u001b[0m",
            "\u001b[0;32m<ipython-input-16-20f935546aa3>\u001b[0m in \u001b[0;36mAge_Cal\u001b[0;34m(DOB)\u001b[0m\n\u001b[1;32m      4\u001b[0m     \u001b[0mTdate\u001b[0m \u001b[0;34m=\u001b[0m \u001b[0mdate\u001b[0m\u001b[0;34m.\u001b[0m\u001b[0mtoday\u001b[0m\u001b[0;34m(\u001b[0m\u001b[0;34m)\u001b[0m\u001b[0;34m\u001b[0m\u001b[0;34m\u001b[0m\u001b[0m\n\u001b[1;32m      5\u001b[0m     \u001b[0;32mtry\u001b[0m\u001b[0;34m:\u001b[0m\u001b[0;34m\u001b[0m\u001b[0;34m\u001b[0m\u001b[0m\n\u001b[0;32m----> 6\u001b[0;31m         \u001b[0mbth\u001b[0m \u001b[0;34m=\u001b[0m \u001b[0mDOB\u001b[0m\u001b[0;34m.\u001b[0m\u001b[0mreplace\u001b[0m\u001b[0;34m(\u001b[0m\u001b[0myear\u001b[0m\u001b[0;34m=\u001b[0m\u001b[0mTdate\u001b[0m\u001b[0;34m.\u001b[0m\u001b[0myear\u001b[0m\u001b[0;34m)\u001b[0m\u001b[0;34m\u001b[0m\u001b[0;34m\u001b[0m\u001b[0m\n\u001b[0m\u001b[1;32m      7\u001b[0m     \u001b[0;32mexcept\u001b[0m \u001b[0mValueError\u001b[0m\u001b[0;34m:\u001b[0m\u001b[0;34m\u001b[0m\u001b[0;34m\u001b[0m\u001b[0m\n\u001b[1;32m      8\u001b[0m         \u001b[0mbth\u001b[0m \u001b[0;34m=\u001b[0m \u001b[0mDOB\u001b[0m\u001b[0;34m.\u001b[0m\u001b[0mreplace\u001b[0m\u001b[0;34m(\u001b[0m\u001b[0myear\u001b[0m\u001b[0;34m=\u001b[0m\u001b[0mTdate\u001b[0m\u001b[0;34m.\u001b[0m\u001b[0myear\u001b[0m\u001b[0;34m,\u001b[0m \u001b[0mmonth\u001b[0m\u001b[0;34m=\u001b[0m\u001b[0mDOB\u001b[0m\u001b[0;34m.\u001b[0m\u001b[0mmonth\u001b[0m\u001b[0;34m+\u001b[0m\u001b[0;36m1\u001b[0m\u001b[0;34m,\u001b[0m\u001b[0mday\u001b[0m \u001b[0;34m=\u001b[0m \u001b[0;36m1\u001b[0m\u001b[0;34m)\u001b[0m\u001b[0;34m\u001b[0m\u001b[0;34m\u001b[0m\u001b[0m\n",
            "\u001b[0;31mTypeError\u001b[0m: replace() takes no keyword arguments"
          ]
        }
      ]
    }
  ]
}