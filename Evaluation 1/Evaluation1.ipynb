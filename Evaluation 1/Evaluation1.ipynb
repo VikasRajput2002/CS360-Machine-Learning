{
  "nbformat": 4,
  "nbformat_minor": 0,
  "metadata": {
    "colab": {
      "name": "A_Eva1.ipynb",
      "provenance": [],
      "collapsed_sections": []
    },
    "kernelspec": {
      "name": "python3",
      "display_name": "Python 3"
    },
    "language_info": {
      "name": "python"
    }
  },
  "cells": [
    {
      "cell_type": "code",
      "metadata": {
        "id": "MlM_sp5pMv3V"
      },
      "source": [
        "from sklearn import datasets\n",
        "import numpy as np\n",
        "boston = datasets.load_boston(return_X_y = True)\n",
        "print(boston)\n"
      ],
      "execution_count": null,
      "outputs": []
    },
    {
      "cell_type": "code",
      "metadata": {
        "id": "eCeBTeQOVuLY"
      },
      "source": [
        "# Random Split\n",
        "from sklearn.datasets import load_boston\n",
        "import numpy as np\n",
        "from sklearn.model_selection import train_test_split\n",
        "from random import random\n",
        "train_X, train_y = load_boston(return_X_y = True)\n",
        "# print(train_X)\n",
        "x_total = train_X\n",
        "y_total = train_y\n",
        "\n",
        "X_train,X_test,y_train,y_test = train_test_split(x_total,y_total,test_size = 0.6,random_state = 1)\n",
        "X_train,X_validation,y_train,y_validation = train_test_split(X_train,y_train,test_size = 0.25,random_state = 1)\n",
        "print(X_train.size)\n",
        "print(X_test.size)\n",
        "print(X_validation.size)"
      ],
      "execution_count": null,
      "outputs": []
    },
    {
      "cell_type": "code",
      "metadata": {
        "id": "1Oibhw1EbHdH"
      },
      "source": [
        "import numpy as np\n",
        "import random\n",
        "def gradient_descent(alpha, x, y, ep=0.0001, max_iter=10):\n",
        "    converged = False\n",
        "    iter = 0\n",
        "    m = x.shape[0]\n",
        "    weight = np.ones(x.shape[1]+1)\n",
        "    random.seed(10)\n",
        "    for i in range(0,x.shape[1]+1):\n",
        "      weight[i] = random.uniform(-0.3, 0.3)\n",
        "    total_error = 0\n",
        "    temp_in = 0\n",
        "    for i in range(0,m):\n",
        "      for j in range(0,x.shape[1]):\n",
        "        temp_in = temp_in + weight[j+1]*x[i][j]\n",
        "      total_error = total_error + (weight[0] + temp_in - y[i])**2\n",
        "    sum = np.ones(x.shape[1]+1)\n",
        "    while not converged:\n",
        "        error = 0\n",
        "        temp_in = 0\n",
        "        temp_out = 0\n",
        "        for i in range(0,m): \n",
        "          for j in range(0,x.shape[1]):\n",
        "            temp_in = temp_in + weight[j+1]*x[i][j]\n",
        "          temp_out = temp_out + (weight[0] + temp_in - y[j])*1\n",
        "        sum[0] = temp_out\n",
        "\n",
        "        for k in range(1,x.shape[1]):\n",
        "          temp_in = 0 \n",
        "          temp_out = 0\n",
        "          for i in range(0,m):\n",
        "            for j in range(0,x.shape[1]):\n",
        "              temp_in = temp_in + weight[j+1]*x[i][j]\n",
        "            temp_out = temp_out + (weight[1] + temp_in - y[j])*x[i][k]\n",
        "          sum[k+1] = temp_out\n",
        "        for j in range(0,x.shape[1]):\n",
        "          weight[0] = weight[j] - (alpha/m) * sum[j]\n",
        "        for i in range(0,m):\n",
        "          for j in range(0,x.shape[1]):\n",
        "            temp_in = temp_in + weight[j+1]*x[i][j]\n",
        "          error = error + (weight[0] + temp_in - y[i])**2\n",
        "        if abs(total_error-error) <= ep:\n",
        "            converged = True\n",
        "        total_error = error  # update error \n",
        "        iter += 1  # update iter\n",
        "        if iter == max_iter:\n",
        "            converged = True\n",
        "    return weight,error\n",
        "\n",
        "alpha = [ 0.1, 0.001, 0.0001, 0.5, 1.0]\n",
        "mse = np.ones(5)\n",
        "weight = np.ones(14)\n",
        "for i in range(5):\n",
        "  weight,mse[i] = gradient_descent(alpha[i], X_train, y_train, ep=0, max_iter=10)\n",
        "\n",
        "\n",
        "weight,mse = gradient_descent(0.1, X_train, y_train, ep=0.5, max_iter=10)\n",
        "# validation mse at alpha = 0.1\n",
        "temp_in = 0\n",
        "error=0\n",
        "for i in range(0 ,X_validation.shape[0]): # vary the row\n",
        "  for j in range(0,X_validation.shape[1]):\n",
        "    temp_in = temp_in + weight[j+1]*X_validation[i][j]\n",
        "  error = error + (weight[0] + temp_in - y_validation[i])**2 # total error\n",
        "print(\"alpha = 0.1 : \" ,error)\n",
        "\n",
        "\n",
        "weight,mse = gradient_descent(0.01, X_train, y_train, ep=0.6, max_iter=20)\n",
        "# validation mse at alpha = 0.01\n",
        "temp_in = 0 \n",
        "error=0\n",
        "for i in range(0,X_validation.shape[0]): # vary the row\n",
        "  for j in range(0,X_validation.shape[1]):\n",
        "    temp_in = temp_in + weight[j+1]*X_validation[i][j]\n",
        "  error = error + (weight[0] + temp_in - y_validation[i])**2 # total error\n",
        "print(\"alpha = 0.01 :\",error)\n",
        "\n",
        "\n",
        "weight,mse = gradient_descent(0.02, X_train, y_train, ep=0.7, max_iter=30)\n",
        "# validation mse for alpha = 0.02\n",
        "temp_in = 0\n",
        "error=0\n",
        "for i in range(0,X_validation.shape[0]): # vary the row\n",
        "  for j in range(0,X_validation.shape[1]):\n",
        "    temp_in = temp_in + weight[j+1]*X_validation[i][j]\n",
        "  error = error + (weight[0] + temp_in - y_validation[i])**2 # total error\n",
        "print(\"alpha = 0.02 :\",error)\n",
        "\n",
        "\n",
        "weight,mse = gradient_descent(0.03, X_train, y_train, ep=0.8, max_iter=40)\n",
        "# validation mse at alpha = 0.03\n",
        "temp_in = 0\n",
        "error=0\n",
        "for i in range(0,X_validation.shape[0]): # vary the row\n",
        "  for j in range(0,X_validation.shape[1]):\n",
        "    temp_in = temp_in + weight[j+1]*X_validation[i][j]\n",
        "  error = error + (weight[0] + temp_in - y_validation[i])**2 # total error\n",
        "print(\"alpha = 0.03 :\",error)\n",
        "\n",
        "\n",
        "weight,mse = gradient_descent(0.001, X_train, y_train, ep=0.9, max_iter=50)\n",
        "# validation mse at alpha = 0.001\n",
        "temp_in = 0\n",
        "error=0\n",
        "for i in range(0,X_validation.shape[0]): # vary the row\n",
        "  for j in range(0,X_validation.shape[1]):\n",
        "    temp_in = temp_in + weight[j+1]*X_validation[i][j]\n",
        "  error = error + (weight[0] + temp_in - y_validation[i])**2 # total error\n",
        "print(\"alpha = 0.001 :\",error)\n",
        "\n",
        "\n",
        "# best hyper\n",
        "weight,mse = gradient_descent(0.001, X_train, y_train, ep=0.9, max_iter=50)\n",
        "print(\"train mse :\",mse)\n",
        "\n",
        "\n",
        "# validation mse\n",
        "temp_in = 0\n",
        "error=0\n",
        "for i in range(0,X_validation.shape[0]): # vary the row\n",
        "  for j in range(0,X_validation.shape[1]):\n",
        "    temp_in = temp_in + weight[j+1]*X_validation[i][j]\n",
        "  error = error + (weight[0] + temp_in - y_validation[i])**2 # total error\n",
        "print(\"validation mse :\",error)\n",
        "\n",
        "\n",
        "temp_in = 0\n",
        "error=0\n",
        "for i in range(0,X_test.shape[0]): # vary the row\n",
        "  for j in range(0,X_test.shape[1]):\n",
        "    temp_in = temp_in + weight[j+1]*X_test[i][j]\n",
        "  error = error + (weight[0] + temp_in - y_test[i])**2 # total error\n",
        "print(\"test mse : \",error)\n",
        "\n",
        "itr = [10,20,30,40,50,60]\n",
        "ny_mse = np.ones(6)\n",
        "for i in range(0,6):\n",
        "  weight,mse = gradient_descent(0.3, X_train, y_train, ep=0.1, max_iter = itr[i])\n",
        "  ny_mse[i] = mse"
      ],
      "execution_count": null,
      "outputs": []
    },
    {
      "cell_type": "code",
      "metadata": {
        "colab": {
          "base_uri": "https://localhost:8080/",
          "height": 295
        },
        "id": "l2FGC1r-82Mu",
        "outputId": "4f9ffdd4-47e0-4df6-96dd-7c27b1d629a8"
      },
      "source": [
        "import matplotlib.pyplot as plt\n",
        "plt.title(\"M S E vs Epoch\")\n",
        "plt.xlabel(\"Epoch\")\n",
        "plt.ylabel(\"M S E \")\n",
        "plt.plot(itr, ny_mse,'-o')\n",
        "plt.show()"
      ],
      "execution_count": null,
      "outputs": [
        {
          "output_type": "display_data",
          "data": {
            "image/png": "[encoded data removed]",
            "text/plain": [
              "<Figure size 432x288 with 1 Axes>"
            ]
          },
          "metadata": {
            "needs_background": "light"
          }
        }
      ]
    }
  ]
}