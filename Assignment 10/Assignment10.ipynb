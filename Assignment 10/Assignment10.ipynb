{
  "cells": [
    {
      "cell_type": "code",
      "execution_count": null,
      "metadata": {
        "id": "1oCIv9FZkSmg"
      },
      "outputs": [],
      "source": [
        "import pandas as pd\n",
        "import numpy as np\n",
        "import sklearn\n",
        "from sklearn import datasets\n"
      ]
    },
    {
      "cell_type": "code",
      "execution_count": null,
      "metadata": {
        "id": "XN0OAz4DV_Y2"
      },
      "outputs": [],
      "source": [
        "from sklearn import preprocessing\n",
        "sx = preprocessing.MinMaxScaler()\n",
        "sy = preprocessing.MinMaxScaler()"
      ]
    },
    {
      "cell_type": "code",
      "execution_count": null,
      "metadata": {
        "colab": {
          "base_uri": "https://localhost:8080/"
        },
        "id": "4bIH7o9klD1v",
        "outputId": "d0025109-3587-435f-8720-8a53adde1d57"
      },
      "outputs": [
        {
          "name": "stdout",
          "output_type": "stream",
          "text": [
            "number of classes 3\n"
          ]
        }
      ],
      "source": [
        "# uploading iris data\n",
        "iris = datasets.load_iris()\n",
        "data = pd.DataFrame(iris.data)\n",
        "\n",
        "# normalize the dataset\n",
        "max_val=max(data.max())\n",
        "data =data/max_val\n",
        "\n",
        "data.columns = iris.feature_names\n",
        "data['target'] = iris.target\n",
        "\n",
        "# number of classes\n",
        "print(\"number of classes\",len(pd.unique(data['target'])))\n",
        "train, validate, test = np.split(data.sample(frac=1 ,random_state=42),[int(.6*len(data)), int(.8*len(data))])\n",
        "\n",
        "#Trainig dataset\n",
        "train_X =  train.drop('target',axis='columns').values\n",
        "train_Y = train['target'].values\n",
        "\n",
        "#validate dataset\n",
        "validate_X =validate.drop('target',axis='columns').values\n",
        "validate_Y = validate['target'].values\n",
        "\n",
        "#test dataset\n",
        "test_X =test.drop('target',axis='columns').values\n",
        "test_Y = test['target'].values\n",
        "\n",
        "\n"
      ]
    },
    {
      "cell_type": "code",
      "execution_count": null,
      "metadata": {
        "id": "prlWDkPbWm0u"
      },
      "outputs": [],
      "source": [
        "# one hot encoding here number of classes is three\n",
        "def oneHotEncoding(Y):\n",
        "  y1 = []\n",
        "  y2 = []\n",
        "  y3 = []\n",
        "  \n",
        "  for i in range(0 , len(Y)):\n",
        "    if (Y[i] == 0):\n",
        "      y1.append(1)\n",
        "      y2.append(0)\n",
        "      y3.append(0)\n",
        "     \n",
        "    elif (Y[i] == 1):\n",
        "      y1.append(0)\n",
        "      y2.append(1)\n",
        "      y3.append(0)\n",
        "    \n",
        "    else :\n",
        "      y1.append(0)\n",
        "      y2.append(0)\n",
        "      y3.append(1)\n",
        "    \n",
        "  return y1 ,y2 ,y3"
      ]
    },
    {
      "cell_type": "code",
      "execution_count": null,
      "metadata": {
        "id": "cBAPFbC6XBJY"
      },
      "outputs": [],
      "source": [
        "def sigmoid(z):\n",
        "  return 1/(1 + np.exp(-z))"
      ]
    },
    {
      "cell_type": "code",
      "execution_count": null,
      "metadata": {
        "id": "U9y2i_HoXEqv"
      },
      "outputs": [],
      "source": [
        "def train_MLP(X , y1 , y2 , y3 , epoch, alpha , rho):\n",
        "\n",
        "  number_of_features = len(X[0])\n",
        "  \n",
        "  w1 = np.ones([number_of_features + 1 , number_of_features ])*0.1\n",
        "  b1 = np.ones(number_of_features + 1)*0.1\n",
        "  w2 =  np.ones([3 , number_of_features + 1])*0.1\n",
        "  b2 = np.ones(3)*0.1\n",
        "  \n",
        "  error = []\n",
        "  for i in range(epoch ):\n",
        "    errorItr = 0\n",
        "    for j in range(len(X)):\n",
        "      h = []\n",
        "      d = []\n",
        "      del1 = []\n",
        "      del2 = []\n",
        "      for k in range(len(w1)):\n",
        "        v = np.dot(w1[k] , np.array(X[j])) + b1[k]\n",
        "        h.append(sigmoid(v))\n",
        "      \n",
        "      for k in range(len(w2)) :\n",
        "        O = np.dot(w2[k] , np.array(h)) + b2[k]\n",
        "        d.append(sigmoid(O))\n",
        "      \n",
        "      del2.append( d[0] * ( 1- d[0]) * (y1[j] - d[0]))\n",
        "      del2.append( d[1] * ( 1- d[1]) * (y2[j] - d[1]))\n",
        "      del2.append( d[2] * ( 1- d[2]) * (y3[j] - d[2]))\n",
        "     \n",
        "      for k in range(len(h)):\n",
        "        del1.append(float(w2[0][k]*del2[0] + w2[1][k]*del2[1] + w2[2][k]*del2[2])* (float)(h[k]) * (float)(1 - h[k]))\n",
        "       \n",
        "      # weight updation \n",
        "      for k in range(len(w2)):\n",
        "        b2[k] = b2[k] + alpha * del2[k]\n",
        "        for l in range(len(w2[0])):\n",
        "          w2[k][l] = w2[k][l] + alpha * del2[k] * h[l]\n",
        "   \n",
        "      for k in range(len(w1)):\n",
        "        b1[k] = b1[k] + alpha * del1[k]\n",
        "        for l in range(len(w1[0])):\n",
        "          w1[k][l] = w1[k][l] + alpha * del1[k] * X[j][l]\n",
        "      \n",
        "      errorItr += (y1[j] - d[0])*(y1[j] - d[0]) + (y2[j] - d[1])*(y2[j] - d[1]) + (y3[j] - d[2])*(y3[j] - d[2])\n",
        "    error.append(errorItr/len(X));  \n",
        "    if (errorItr < rho):\n",
        "      return w1, b1, w2 , b2, error\n",
        "   \n",
        "    \n",
        "  return  w1 , b1, w2 , b2 , error   \n",
        "  "
      ]
    },
    {
      "cell_type": "code",
      "execution_count": null,
      "metadata": {
        "id": "bmyi3HonXEsz"
      },
      "outputs": [],
      "source": [
        "def predict_Y(w1 , b1 , w2 , b2  , X):\n",
        "  y = []\n",
        "  \n",
        "  for j in range(len(X)):\n",
        "    h = []\n",
        "    d = []\n",
        "    for k in range(len(w1)):\n",
        "      v = np.dot(w1[k] , np.array(X[j])) + b1[k]\n",
        "      h.append(sigmoid(v))\n",
        "    \n",
        "    for k in range(len(w2)) :\n",
        "      O = np.dot(w2[k] , np.array(h)) + b2[k]\n",
        "      d.append(sigmoid(O))\n",
        "    \n",
        "    if(d[0] > d[1] and d[0] > d[2]):\n",
        "      y.append(0)\n",
        "\n",
        "    elif(d[1] > d[0] and d[1] > d[2]):\n",
        "      y.append(1)\n",
        "\n",
        "    else:\n",
        "      y.append(2) \n",
        "    \n",
        "  return y\n"
      ]
    },
    {
      "cell_type": "code",
      "execution_count": null,
      "metadata": {
        "id": "UswQir5_XNpn"
      },
      "outputs": [],
      "source": [
        "y1 , y2 , y3 = oneHotEncoding(train_Y)\n",
        "y_val1 , y_val2 , y_val3 = oneHotEncoding(validate_Y)"
      ]
    },
    {
      "cell_type": "code",
      "execution_count": null,
      "metadata": {
        "colab": {
          "base_uri": "https://localhost:8080/"
        },
        "id": "XHxyUTKGXNtD",
        "outputId": "219c5ae7-dbda-40d2-a494-aabaddde2d92"
      },
      "outputs": [
        {
          "name": "stdout",
          "output_type": "stream",
          "text": [
            "[1 0 1 1 0 1 2 2 0 1 2 2 0 2 0 1 2 2 1 2 1 1 2 2 0 1 2 0 1 2]\n",
            "[1 0 1 1 0 1 2 2 0 1 2 2 0 2 0 1 2 2 1 2 1 1 2 2 0 1 2 0 1 2]\n",
            "1.0\n"
          ]
        }
      ],
      "source": [
        "from sklearn.metrics import accuracy_score\n",
        "from sklearn.metrics import precision_score, recall_score\n",
        "\n",
        "w1 , b1 , w2, b2 ,error1   = train_MLP(train_X , y1 , y2, y3, 1000, 0.1 , 0.001)\n",
        "\n",
        "y_predicted = predict_Y(w1 , b1, w2 , b2, test_X)\n",
        "y_predicted = np.array(y_predicted)\n",
        "\n",
        "print(y_predicted)\n",
        "print(test_Y)\n",
        "print(accuracy_score(y_predicted , test_Y))\n"
      ]
    },
    {
      "cell_type": "code",
      "execution_count": null,
      "metadata": {
        "colab": {
          "base_uri": "https://localhost:8080/"
        },
        "id": "F2pS2ErsXUez",
        "outputId": "87205d55-af2c-4e1f-93f7-30e10e5f1e62"
      },
      "outputs": [
        {
          "name": "stdout",
          "output_type": "stream",
          "text": [
            "0.6694707848055598\n",
            "0.6650556738624428\n"
          ]
        }
      ],
      "source": [
        "w_a11 , b_a11 , w_a12, b_a12 ,error_a1   = train_MLP(train_X , y1 , y2, y3, 10, 0.1 , 0.001)\n",
        "w_a21 , b_a21 , w_a22  , b_a22 ,error_a2 = train_MLP( validate_X, y_val1 , y_val2, y_val3, 10, 0.1 , 0.001)\n",
        "print(min(error_a1))\n",
        "print(min(error_a2))"
      ]
    },
    {
      "cell_type": "code",
      "execution_count": null,
      "metadata": {
        "colab": {
          "base_uri": "https://localhost:8080/"
        },
        "id": "jnSUUFToXXiI",
        "outputId": "030cf3ee-bb12-4c4a-ffca-23bbd80af730"
      },
      "outputs": [
        {
          "name": "stdout",
          "output_type": "stream",
          "text": [
            "0.5551445050669311\n",
            "0.6566367698028106\n"
          ]
        }
      ],
      "source": [
        "w_b11 , b_b11 , w_b12, b_b12 ,error_b1   = train_MLP(train_X , y1 , y2, y3, 100, 0.1 , 0.001)\n",
        "w_b21 , b_b21 , w_b22  , b_b22 ,error_b2 = train_MLP( validate_X, y_val1 , y_val2, y_val3, 100, 0.1 , 0.001)\n",
        "print(min(error_b1))\n",
        "print(min(error_b2))"
      ]
    },
    {
      "cell_type": "code",
      "execution_count": null,
      "metadata": {
        "colab": {
          "base_uri": "https://localhost:8080/"
        },
        "id": "MSexBE-2XXkJ",
        "outputId": "3d6a743e-f773-4e1d-cd06-df6ab6bb6f8d"
      },
      "outputs": [
        {
          "name": "stdout",
          "output_type": "stream",
          "text": [
            "0.662497243233794\n",
            "0.6575371537039533\n"
          ]
        }
      ],
      "source": [
        "w_c11 , b_c11 , w_c12, b_c12 ,error_c1   = train_MLP(train_X , y1 , y2, y3, 100, 0.01 , 0.001)\n",
        "w_c21 , b_c21 , w_c22  , b_c22 ,error_c2 = train_MLP( validate_X, y_val1 , y_val2, y_val3, 100, 0.01 , 0.001)\n",
        "print(min(error_c1))\n",
        "print(min(error_c2))"
      ]
    },
    {
      "cell_type": "code",
      "execution_count": null,
      "metadata": {
        "colab": {
          "base_uri": "https://localhost:8080/"
        },
        "id": "NVA_3fTcX8WR",
        "outputId": "7dbdad31-27d0-408d-804e-2bd9963874f7"
      },
      "outputs": [
        {
          "name": "stdout",
          "output_type": "stream",
          "text": [
            "0.5071225206430943\n",
            "0.647973790293617\n"
          ]
        }
      ],
      "source": [
        "w_d11 , b_d11 , w_d12, b_d12 ,error_d1   = train_MLP(train_X , y1 , y2, y3, 1000, 0.01 , 0.001)\n",
        "w_d21 , b_d21 , w_d22  , b_d22 ,error_d2 = train_MLP( validate_X, y_val1 , y_val2, y_val3, 1000, 0.01 , 0.001)\n",
        "print(min(error_d1))\n",
        "print(min(error_d2))"
      ]
    },
    {
      "cell_type": "code",
      "execution_count": null,
      "metadata": {
        "colab": {
          "base_uri": "https://localhost:8080/"
        },
        "id": "qdIXaFeqYF50",
        "outputId": "f63b2b43-029b-4804-8be5-ce8ecc9ffce6"
      },
      "outputs": [
        {
          "name": "stdout",
          "output_type": "stream",
          "text": [
            "0.6694707848055598\n",
            "0.6650556738624428\n"
          ]
        }
      ],
      "source": [
        "w_e11 , b_e11 , w_e12, b_e12 ,error_e1   = train_MLP(train_X , y1 , y2, y3, 1000, 0.001 , 0.0001)\n",
        "w_e21 , b_e21 , w_e22  , b_e22 ,error_e2 = train_MLP( validate_X, y_val1 , y_val2, y_val3, 1000, 0.001 , 0.0001)\n",
        "print(min(error_a1))\n",
        "print(min(error_a2))"
      ]
    },
    {
      "cell_type": "code",
      "execution_count": null,
      "metadata": {
        "colab": {
          "base_uri": "https://localhost:8080/",
          "height": 295
        },
        "id": "449V6u-LYI34",
        "outputId": "8f7b746a-60a9-4794-ab4d-003a8ad4ab11"
      },
      "outputs": [
        {
          "data": {
            "image/png": "[encoded data removed]",
            "text/plain": [
              "<Figure size 432x288 with 1 Axes>"
            ]
          },
          "metadata": {},
          "output_type": "display_data"
        }
      ],
      "source": [
        "# Overfitting Checking\n",
        "import matplotlib.pyplot as plt\n",
        "import math\n",
        "  \n",
        "X = list(range(1, 1001))\n",
        "plt.plot(X, error_d1, color='r', label='train')\n",
        "plt.plot(X,error_d2, color='g', label='validate')\n",
        "  \n",
        "# Naming the x-axis, y-axis and the whole graph\n",
        "plt.xlabel(\"number of epoch\")\n",
        "plt.ylabel(\"MSE\")\n",
        "plt.title(\"number of epoch vs MSE\")\n",
        "  \n",
        "# Adding legend, which helps us recognize the curve according to it's color\n",
        "plt.legend()\n",
        "  \n",
        "# To load the display window\n",
        "plt.show()\n"
      ]
    },
    {
      "cell_type": "code",
      "execution_count": null,
      "metadata": {
        "colab": {
          "base_uri": "https://localhost:8080/",
          "height": 295
        },
        "id": "od7GqL2BYI6V",
        "outputId": "e7cd8ce6-97c7-4c23-a151-cab05ca76d3f"
      },
      "outputs": [
        {
          "data": {
            "image/png": "[encoded data removed]",
            "text/plain": [
              "<Figure size 432x288 with 1 Axes>"
            ]
          },
          "metadata": {},
          "output_type": "display_data"
        }
      ],
      "source": [
        "import matplotlib.pyplot as plt\n",
        "import math\n",
        "  \n",
        "X = list(range(1, 1001))\n",
        "plt.plot(X, error_e1, color='r', label='train')\n",
        "plt.plot(X,error_e2, color='g', label='validate')\n",
        "  \n",
        "# Naming the x-axis, y-axis and the whole graph\n",
        "plt.xlabel(\"number of epoch\")\n",
        "plt.ylabel(\"MSE\")\n",
        "plt.title(\"number of epoch vs MSE\")\n",
        "  \n",
        "# Adding legend, which helps us recognize the curve according to it's color\n",
        "plt.legend()\n",
        "  \n",
        "# To load the display window\n",
        "plt.show()"
      ]
    },
    {
      "cell_type": "code",
      "execution_count": null,
      "metadata": {
        "id": "WvVFNVzGYWRv"
      },
      "outputs": [],
      "source": [
        "# k fold variation\n",
        "from sklearn.model_selection import KFold\n",
        "def fold(features,y_actual):\n",
        "  kf = KFold(n_splits=5,random_state=1000, shuffle=True)\n",
        "  kf.get_n_splits(features)\n",
        "  print(kf)\n",
        "  all_x_train = []\n",
        "  all_x_test = []\n",
        "  all_y_train = []\n",
        "  all_y_test = []\n",
        "  for train_index, test_index in kf.split(features):\n",
        "    X_train, X_test = features[train_index], features[test_index]\n",
        "    y_train, y_test = y_actual[train_index], y_actual[test_index]\n",
        "    all_x_train.append(X_train)\n",
        "    all_x_test.append(X_test)\n",
        "    all_y_train.append(y_train)\n",
        "    all_y_test.append(y_test)\n",
        "  all_x_train, all_x_test, all_y_train, all_y_test  = np.array(all_x_train), np.array(all_x_test), np.array(all_y_train), np.array(all_y_test)\n",
        "  return all_x_train, all_x_test, all_y_train, all_y_test"
      ]
    },
    {
      "cell_type": "code",
      "execution_count": null,
      "metadata": {
        "colab": {
          "background_save": true,
          "base_uri": "https://localhost:8080/"
        },
        "id": "lqK8qa1xYZvc",
        "outputId": "05a5a7e5-1ece-46dd-91a5-5b24aae20c24"
      },
      "outputs": [
        {
          "name": "stdout",
          "output_type": "stream",
          "text": [
            "KFold(n_splits=5, random_state=1000, shuffle=True)\n"
          ]
        },
        {
          "name": "stderr",
          "output_type": "stream",
          "text": [
            "/usr/local/lib/python3.7/dist-packages/ipykernel_launcher.py:18: VisibleDeprecationWarning: Creating an ndarray from ragged nested sequences (which is a list-or-tuple of lists-or-tuples-or ndarrays with different lengths or shapes) is deprecated. If you meant to do this, you must specify 'dtype=object' when creating the ndarray\n"
          ]
        },
        {
          "name": "stdout",
          "output_type": "stream",
          "text": [
            "For First Class accuracy is 0.9444444444444444 ,  recall is 0.8181818181818182 , precision is 1.0 \n",
            "For Second Class accuracy is 0.6944444444444444 ,  recall is 0.7333333333333333 , precision is 0.6111111111111112 \n",
            "For Third Class accuracy is 0.5 ,  recall is 0.5 , precision is 0.2777777777777778 \n",
            "overall accuracy is 0.6944444444444444\n",
            " \n",
            "For First Class accuracy is 0.8333333333333334 ,  recall is 0.75 , precision is 0.75 \n",
            "For Second Class accuracy is 0.8611111111111112 ,  recall is 0.8 , precision is 0.8571428571428571 \n",
            "For Third Class accuracy is 0.4166666666666667 ,  recall is 0.1111111111111111 , precision is 0.07142857142857142 \n",
            "overall accuracy is 0.7222222222222222\n",
            " \n",
            "For First Class accuracy is 0.9166666666666666 ,  recall is 0.7272727272727273 , precision is 1.0 \n",
            "For Second Class accuracy is 0.6388888888888888 ,  recall is 0.5217391304347826 , precision is 0.8571428571428571 \n",
            "For Third Class accuracy is 0.6111111111111112 ,  recall is 0.5 , precision is 0.07142857142857142 \n",
            "overall accuracy is 0.5833333333333334\n",
            " \n",
            "For First Class accuracy is 0.9428571428571428 ,  recall is 1.0 , precision is 0.8823529411764706 \n",
            "For Second Class accuracy is 0.8285714285714286 ,  recall is 0.875 , precision is 0.5833333333333334 \n",
            "For Third Class accuracy is 0.6 ,  recall is 0.4166666666666667 , precision is 0.4166666666666667 \n",
            "overall accuracy is 0.7714285714285715\n",
            " \n",
            "For First Class accuracy is 0.9142857142857143 ,  recall is 0.9166666666666666 , precision is 0.8461538461538461 \n",
            "For Second Class accuracy is 0.8 ,  recall is 0.75 , precision is 0.6923076923076923 \n",
            "For Third Class accuracy is 0.5428571428571428 ,  recall is 0.36363636363636365 , precision is 0.3076923076923077 \n",
            "overall accuracy is 0.7142857142857143\n",
            " \n"
          ]
        }
      ],
      "source": [
        "# using K fold validation\n",
        "from sklearn.metrics import accuracy_score\n",
        "from sklearn.metrics import precision_score, recall_score\n",
        "\n",
        "wine = datasets.load_wine()\n",
        "data = pd.DataFrame(wine.data)\n",
        "\n",
        "# normalize the dataset\n",
        "max_val=max(data.max())\n",
        "data =data/max_val\n",
        "\n",
        "data.columns = wine.feature_names\n",
        "data\n",
        "wine.target.shape\n",
        "data['target'] = wine.target\n",
        "\n",
        "y_actual = np.array(wine.target)\n",
        "features = np.array(data.drop('target',axis='columns').values)\n",
        "all_x_train, all_x_test, all_y_train, all_y_test = fold(features , y_actual)\n",
        "\n",
        "all_x_train = np.array(all_x_train)\n",
        "all_x_test = np.array(all_x_test)\n",
        "all_y_train = np.array(all_y_train)\n",
        "all_y_test = np.array(all_y_test)\n",
        "\n",
        "\n",
        "for i in range(0 , 5):\n",
        "\n",
        "  y1 , y2 , y3 = oneHotEncoding(all_y_train[i])\n",
        "  w1 , b1 , w2, b2 ,error1   = train_MLP(all_x_train[i] , y1 , y2, y3, 1000, 0.1 , 0.001)\n",
        "  y_predicted = predict_Y(w1 , b1,  w2 , b2 , all_x_test[i])\n",
        "  y_predicted = np.array(y_predicted)\n",
        "\n",
        "  y_predicted1 , y_predicted2 , y_predicted3 = oneHotEncoding(y_predicted)  \n",
        "  y_predicted1 = np.array(y_predicted1)\n",
        "  y_predicted2 = np.array(y_predicted2)\n",
        "  y_predicted3 = np.array(y_predicted3)\n",
        "  \n",
        "  test_y1 , test_y2 , test_y3 = oneHotEncoding(all_y_test[i])\n",
        "  test_y1 = np.array(test_y1)\n",
        "  test_y3 = np.array(test_y2)\n",
        "  test_y3 = np.array(test_y3)\n",
        "  print(\"For First Class accuracy is {} ,  recall is {} , precision is {} \".format(accuracy_score(y_predicted1 , test_y1) ,recall_score(y_predicted1 , test_y1) , precision_score(y_predicted1 , test_y1)))\n",
        "  print(\"For Second Class accuracy is {} ,  recall is {} , precision is {} \".format(accuracy_score(y_predicted2 , test_y2) ,recall_score(y_predicted2 , test_y2) , precision_score(y_predicted2 , test_y2)))\n",
        "  print(\"For Third Class accuracy is {} ,  recall is {} , precision is {} \".format(accuracy_score(y_predicted3 , test_y3) ,recall_score(y_predicted3 , test_y3) , precision_score(y_predicted3 , test_y3)))\n",
        "\n",
        "  print(\"overall accuracy is {}\".format(accuracy_score(y_predicted , all_y_test[i])))\n",
        "  print(\" \")"
      ]
    },
    {
      "cell_type": "code",
      "execution_count": null,
      "metadata": {
        "id": "1A7e6ZRTYZyS"
      },
      "outputs": [],
      "source": [
        ""
      ]
    }
  ],
  "metadata": {
    "colab": {
      "name": "Assignment10.ipynb",
      "provenance": []
    },
    "kernelspec": {
      "display_name": "Python 3",
      "name": "python3"
    },
    "language_info": {
      "name": "python"
    }
  },
  "nbformat": 4,
  "nbformat_minor": 0
}