{
  "nbformat": 4,
  "nbformat_minor": 0,
  "metadata": {
    "colab": {
      "name": "Evaluation 2",
      "provenance": [],
      "collapsed_sections": []
    },
    "kernelspec": {
      "name": "python3",
      "display_name": "Python 3"
    },
    "language_info": {
      "name": "python"
    }
  },
  "cells": [
    {
      "cell_type": "code",
      "metadata": {
        "id": "NdCYV74zYo6B"
      },
      "source": [
        "import numpy as np\n",
        "import pandas as pd"
      ],
      "execution_count": null,
      "outputs": []
    },
    {
      "cell_type": "code",
      "metadata": {
        "id": "FfN-7yM_3EbK",
        "colab": {
          "base_uri": "https://localhost:8080/"
        },
        "outputId": "327861fc-2b75-4afc-8956-5fb782333112"
      },
      "source": [
        "from sklearn import datasets\n",
        "wine = datasets.load_wine()\n",
        "# print(wine)\n",
        "# print(wine.data)\n",
        "# print(wine.target)\n",
        "print(wine.data.shape)\n",
        "print(wine.DESCR)"
      ],
      "execution_count": null,
      "outputs": [
        {
          "output_type": "stream",
          "name": "stdout",
          "text": [
            "(178, 13)\n",
            ".. _wine_dataset:\n",
            "\n",
            "Wine recognition dataset\n",
            "------------------------\n",
            "\n",
            "**Data Set Characteristics:**\n",
            "\n",
            "    :Number of Instances: 178 (50 in each of three classes)\n",
            "    :Number of Attributes: 13 numeric, predictive attributes and the class\n",
            "    :Attribute Information:\n",
            " \t\t- Alcohol\n",
            " \t\t- Malic acid\n",
            " \t\t- Ash\n",
            "\t\t- Alcalinity of ash  \n",
            " \t\t- Magnesium\n",
            "\t\t- Total phenols\n",
            " \t\t- Flavanoids\n",
            " \t\t- Nonflavanoid phenols\n",
            " \t\t- Proanthocyanins\n",
            "\t\t- Color intensity\n",
            " \t\t- Hue\n",
            " \t\t- OD280/OD315 of diluted wines\n",
            " \t\t- Proline\n",
            "\n",
            "    - class:\n",
            "            - class_0\n",
            "            - class_1\n",
            "            - class_2\n",
            "\t\t\n",
            "    :Summary Statistics:\n",
            "    \n",
            "    ============================= ==== ===== ======= =====\n",
            "                                   Min   Max   Mean     SD\n",
            "    ============================= ==== ===== ======= =====\n",
            "    Alcohol:                      11.0  14.8    13.0   0.8\n",
            "    Malic Acid:                   0.74  5.80    2.34  1.12\n",
            "    Ash:                          1.36  3.23    2.36  0.27\n",
            "    Alcalinity of Ash:            10.6  30.0    19.5   3.3\n",
            "    Magnesium:                    70.0 162.0    99.7  14.3\n",
            "    Total Phenols:                0.98  3.88    2.29  0.63\n",
            "    Flavanoids:                   0.34  5.08    2.03  1.00\n",
            "    Nonflavanoid Phenols:         0.13  0.66    0.36  0.12\n",
            "    Proanthocyanins:              0.41  3.58    1.59  0.57\n",
            "    Colour Intensity:              1.3  13.0     5.1   2.3\n",
            "    Hue:                          0.48  1.71    0.96  0.23\n",
            "    OD280/OD315 of diluted wines: 1.27  4.00    2.61  0.71\n",
            "    Proline:                       278  1680     746   315\n",
            "    ============================= ==== ===== ======= =====\n",
            "\n",
            "    :Missing Attribute Values: None\n",
            "    :Class Distribution: class_0 (59), class_1 (71), class_2 (48)\n",
            "    :Creator: R.A. Fisher\n",
            "    :Donor: Michael Marshall (MARSHALL%PLU@io.arc.nasa.gov)\n",
            "    :Date: July, 1988\n",
            "\n",
            "This is a copy of UCI ML Wine recognition datasets.\n",
            "https://archive.ics.uci.edu/ml/machine-learning-databases/wine/wine.data\n",
            "\n",
            "The data is the results of a chemical analysis of wines grown in the same\n",
            "region in Italy by three different cultivators. There are thirteen different\n",
            "measurements taken for different constituents found in the three types of\n",
            "wine.\n",
            "\n",
            "Original Owners: \n",
            "\n",
            "Forina, M. et al, PARVUS - \n",
            "An Extendible Package for Data Exploration, Classification and Correlation. \n",
            "Institute of Pharmaceutical and Food Analysis and Technologies,\n",
            "Via Brigata Salerno, 16147 Genoa, Italy.\n",
            "\n",
            "Citation:\n",
            "\n",
            "Lichman, M. (2013). UCI Machine Learning Repository\n",
            "[https://archive.ics.uci.edu/ml]. Irvine, CA: University of California,\n",
            "School of Information and Computer Science. \n",
            "\n",
            ".. topic:: References\n",
            "\n",
            "  (1) S. Aeberhard, D. Coomans and O. de Vel, \n",
            "  Comparison of Classifiers in High Dimensional Settings, \n",
            "  Tech. Rep. no. 92-02, (1992), Dept. of Computer Science and Dept. of  \n",
            "  Mathematics and Statistics, James Cook University of North Queensland. \n",
            "  (Also submitted to Technometrics). \n",
            "\n",
            "  The data was used with many others for comparing various \n",
            "  classifiers. The classes are separable, though only RDA \n",
            "  has achieved 100% correct classification. \n",
            "  (RDA : 100%, QDA 99.4%, LDA 98.9%, 1NN 96.1% (z-transformed data)) \n",
            "  (All results using the leave-one-out technique) \n",
            "\n",
            "  (2) S. Aeberhard, D. Coomans and O. de Vel, \n",
            "  \"THE CLASSIFICATION PERFORMANCE OF RDA\" \n",
            "  Tech. Rep. no. 92-01, (1992), Dept. of Computer Science and Dept. of \n",
            "  Mathematics and Statistics, James Cook University of North Queensland. \n",
            "  (Also submitted to Journal of Chemometrics).\n",
            "\n"
          ]
        }
      ]
    },
    {
      "cell_type": "code",
      "metadata": {
        "id": "-YmSdy6zVIXn",
        "colab": {
          "base_uri": "https://localhost:8080/"
        },
        "outputId": "30bc46e7-a449-4149-c42c-abb124720d36"
      },
      "source": [
        "# preprocessing\n",
        "x = wine.data\n",
        "y = wine.target\n",
        "from sklearn import preprocessing\n",
        "nor_x = preprocessing.normalize(x)\n",
        "print(nor_x)"
      ],
      "execution_count": null,
      "outputs": [
        {
          "output_type": "stream",
          "name": "stdout",
          "text": [
            "[[1.32644724e-02 1.59397384e-03 2.26512072e-03 ... 9.69434383e-04\n",
            "  3.65402190e-03 9.92738094e-01]\n",
            " [1.25128005e-02 1.68733218e-03 2.02859038e-03 ... 9.95336401e-04\n",
            "  3.22299406e-03 9.95336401e-01]\n",
            " [1.10630135e-02 1.98394467e-03 2.24454758e-03 ... 8.65874158e-04\n",
            "  2.66487484e-03 9.96175609e-01]\n",
            " ...\n",
            " [1.57227449e-02 5.07108879e-03 2.67772446e-03 ... 6.99051960e-04\n",
            "  1.84834078e-03 9.89336248e-01]\n",
            " [1.55136606e-02 3.05090212e-03 2.79175213e-03 ... 7.06772691e-04\n",
            "  1.90828627e-03 9.89481768e-01]\n",
            " [2.48340486e-02 7.20591644e-03 4.81566123e-03 ... 1.07209976e-03\n",
            "  2.81206495e-03 9.84222734e-01]]\n"
          ]
        }
      ]
    },
    {
      "cell_type": "code",
      "metadata": {
        "colab": {
          "base_uri": "https://localhost:8080/"
        },
        "id": "t6shJ-egVu5J",
        "outputId": "242e4b36-2c7f-4f08-9221-20c69db10432"
      },
      "source": [
        "# splinting data    train = 30%, test = 50%, validation = 20%\n",
        "from sklearn.model_selection import train_test_split\n",
        "x_total = nor_x\n",
        "y_total = y\n",
        "\n",
        "X_train,X_test,y_train,y_test = train_test_split(x_total,y_total,test_size = 0.5,random_state = 1)\n",
        "X_train,X_validation,y_train,y_validation = train_test_split(X_train,y_train,test_size = 0.4,random_state = 1)\n",
        "\n",
        "print(X_train.shape)\n",
        "print(X_validation.shape)\n",
        "print(X_test.shape)\n"
      ],
      "execution_count": null,
      "outputs": [
        {
          "output_type": "stream",
          "name": "stdout",
          "text": [
            "(53, 13)\n",
            "(36, 13)\n",
            "(89, 13)\n"
          ]
        }
      ]
    },
    {
      "cell_type": "code",
      "metadata": {
        "id": "0s227x5QCTI0"
      },
      "source": [
        "# to check classes in dataset\n",
        "def num_Of_Classes(y):\n",
        "  l = [0 for i in range(0,100)]\n",
        "  for i in y:\n",
        "    l[i] = l[i]+1\n",
        "  count=0\n",
        "  classes=[]\n",
        "  for i in range(0,100):\n",
        "    if l[i]!=0:\n",
        "      count=count+1\n",
        "      classes.append(i)\n",
        "  return count,classes"
      ],
      "execution_count": null,
      "outputs": []
    },
    {
      "cell_type": "code",
      "metadata": {
        "colab": {
          "base_uri": "https://localhost:8080/"
        },
        "id": "ugXZ1hOACgFL",
        "outputId": "389e72bc-228e-4f26-9b32-f53be5136722"
      },
      "source": [
        "numberClasses,classes = num_Of_Classes(wine.target)\n",
        "print(numberClasses)\n",
        "print(classes)"
      ],
      "execution_count": null,
      "outputs": [
        {
          "output_type": "stream",
          "name": "stdout",
          "text": [
            "3\n",
            "[0, 1, 2]\n"
          ]
        }
      ]
    },
    {
      "cell_type": "code",
      "metadata": {
        "id": "b8s1OoRyClQ-"
      },
      "source": [
        "# set y for classifiers \n",
        "def set_y(y,targetClass):\n",
        "  y_new=[]\n",
        "  for i in y:\n",
        "    if i == targetClass:\n",
        "      y_new.append(1)\n",
        "    else:\n",
        "      y_new.append(0)\n",
        "  return y_new"
      ],
      "execution_count": null,
      "outputs": []
    },
    {
      "cell_type": "code",
      "metadata": {
        "id": "B7j_nhk8Cscg"
      },
      "source": [
        "def getYs(y,classes):\n",
        "  ys=[]\n",
        "  for x in classes:\n",
        "    ys.append(set_y(y,x))\n",
        "  return np.array(ys)"
      ],
      "execution_count": null,
      "outputs": []
    },
    {
      "cell_type": "code",
      "metadata": {
        "id": "v5FmatcSYN6T"
      },
      "source": [
        "# activation fucntion \n",
        "def sigmoid(x):\n",
        "  return (1 / (1 + np.exp(-x)))\n",
        "\n"
      ],
      "execution_count": null,
      "outputs": []
    },
    {
      "cell_type": "code",
      "metadata": {
        "id": "36bKtFt0YnXz"
      },
      "source": [
        "# weight intialization   \n",
        "def getInitialWeights(numClasses,numFeatures):\n",
        "  import random\n",
        "  weights=[]\n",
        "  for x in range(numClasses):\n",
        "    w=[]\n",
        "    for i in range(0,numFeatures+1):\n",
        "      random.seed(i)\n",
        "      w.append(random.uniform(0,1))\n",
        "    weights.append(w)\n",
        "  return np.array(weights)\n",
        "\n",
        "# print(getInitialWeights(3,13))"
      ],
      "execution_count": null,
      "outputs": []
    },
    {
      "cell_type": "code",
      "metadata": {
        "id": "K40txTT2qUiF"
      },
      "source": [
        "# intercept 1\n",
        "def add_intercept(X):\n",
        "  X= np.hstack([np.ones((X.shape[0],1)), X])\n",
        "  return X"
      ],
      "execution_count": null,
      "outputs": []
    },
    {
      "cell_type": "code",
      "metadata": {
        "id": "rCH1PbxBj0JV"
      },
      "source": [
        "# Cost function\n",
        "def J(X,y,weights):\n",
        "  m = X.shape[0]\n",
        "  h= sigmoid(np.matmul(X,weights))\n",
        "  cost= (-1/m)*sum((y * np.log(h) + (1 - y) * np.log(1 - h)))\n",
        "  return cost"
      ],
      "execution_count": null,
      "outputs": []
    },
    {
      "cell_type": "code",
      "metadata": {
        "id": "m_v8eShVcXXT"
      },
      "source": [
        "# weight updation  after each epoch\n",
        "def updateWeights(X,y,weights,alpha,epochs,rho):\n",
        "\n",
        "  cost_array=[]\n",
        "  epochs_array=[0]\n",
        "  cost_array.append(J(X,y,weights))\n",
        "  m = X.shape[0]\n",
        "  for i in range(epochs):\n",
        "\n",
        "    h = sigmoid(np.matmul(X,weights))\n",
        "\n",
        "    grad = (1/m)*(np.matmul(np.transpose(X),(h- y)))\n",
        "\n",
        "    weights = weights-alpha*grad\n",
        "    cost_array.append(J(X,y,weights))\n",
        "    epochs_array.append(i+1)\n",
        "    if abs(cost_array[i-1]- cost_array[i]) < rho:\n",
        "      break      \n",
        "    cost= cost_array[len(cost_array)-1]    \n",
        "  return cost,cost_array,weights,epochs_array\n",
        "  "
      ],
      "execution_count": null,
      "outputs": []
    },
    {
      "cell_type": "code",
      "metadata": {
        "id": "GeMSE9KHpe_8"
      },
      "source": [
        "# traing model\n",
        "def LogisticRegression(X,Y,alpha=1,epochs=100,rho=0.001):\n",
        "  X_new = add_intercept(X)\n",
        "  # no of classess\n",
        "  numClasses,classes = num_Of_Classes(Y)\n",
        "  numFeatures = X.shape[1]\n",
        "\n",
        "  # w0,w1,w2---initial \n",
        "  weights = getInitialWeights(numClasses,numFeatures)\n",
        "  Ys = getYs(Y,classes)\n",
        "  final_weights=[]\n",
        "  cost_array=[]\n",
        "  epochs_array=[]\n",
        "\n",
        "  for x in range(numClasses):\n",
        "    cost,cA,W,e = updateWeights(X_new,Ys[x],weights[x],alpha,epochs,rho)\n",
        "    final_weights.append(W)\n",
        "    cost_array.append(cA)\n",
        "    epochs_array.append(e)\n",
        "  \n",
        "  cost_array = np.array(cost_array)\n",
        "  # print(cost_array.shape)\n",
        "  epochs_array = np.array(epochs_array)\n",
        "  # print(epochs_array.shape)\n",
        "  import matplotlib.pyplot as plt\n",
        "  # %matplotlib inline\n",
        "  # plt.plot(epochs_array[0],cost_array[0])\n",
        "\n",
        "  return final_weights"
      ],
      "execution_count": null,
      "outputs": []
    },
    {
      "cell_type": "code",
      "metadata": {
        "id": "g8dYtxTjdU-8",
        "colab": {
          "base_uri": "https://localhost:8080/"
        },
        "outputId": "23f918fe-f759-42ce-e754-e8aebf2526a9"
      },
      "source": [
        "# testing model\n",
        "weights = LogisticRegression(X_test,y_test,alpha = 1, rho = 0.01)\n",
        "print(weights)"
      ],
      "execution_count": null,
      "outputs": [
        {
          "output_type": "stream",
          "name": "stdout",
          "text": [
            "[array([ 0.00248687,  0.10447535,  0.94978207,  0.23245695,  0.18415467,\n",
            "        0.39856005,  0.78898154,  0.3208177 ,  0.22564718,  0.45960118,\n",
            "        0.56093841,  0.45026121,  0.46915408, -0.555107  ]), array([ 0.02510229,  0.12871606,  0.95418351,  0.23691077,  0.23142322,\n",
            "        0.57836515,  0.79275549,  0.32391397,  0.22659997,  0.46300194,\n",
            "        0.56304069,  0.45246971,  0.47478536, -0.56311231]), array([-0.28127299,  0.11410389,  0.95417978,  0.23435378,  0.20830169,\n",
            "        0.46231774,  0.7883793 ,  0.3177584 ,  0.22627458,  0.45911746,\n",
            "        0.57052401,  0.45022843,  0.46802712, -0.85100121])]\n"
          ]
        },
        {
          "output_type": "stream",
          "name": "stderr",
          "text": [
            "/usr/local/lib/python3.7/dist-packages/ipykernel_launcher.py:21: VisibleDeprecationWarning: Creating an ndarray from ragged nested sequences (which is a list-or-tuple of lists-or-tuples-or ndarrays with different lengths or shapes) is deprecated. If you meant to do this, you must specify 'dtype=object' when creating the ndarray\n",
            "/usr/local/lib/python3.7/dist-packages/ipykernel_launcher.py:23: VisibleDeprecationWarning: Creating an ndarray from ragged nested sequences (which is a list-or-tuple of lists-or-tuples-or ndarrays with different lengths or shapes) is deprecated. If you meant to do this, you must specify 'dtype=object' when creating the ndarray\n"
          ]
        }
      ]
    },
    {
      "cell_type": "code",
      "metadata": {
        "id": "SZjF7IELgrn9",
        "colab": {
          "base_uri": "https://localhost:8080/"
        },
        "outputId": "aa153476-465e-41bf-e6f4-4dd1787b9c41"
      },
      "source": [
        "# k fold \n",
        "\n",
        "\n",
        "from sklearn.datasets import load_breast_cancer\n",
        "import pandas as pd\n",
        "from sklearn.model_selection import KFold,train_test_split\n",
        "from sklearn import linear_model\n",
        "from sklearn.linear_model import LogisticRegression\n",
        "from sklearn.metrics import accuracy_score\n",
        "\n",
        " \n",
        "#Loading the data \n",
        "X = wine.data\n",
        "y = wine.target\n",
        " \n",
        "#Implementing cross validation\n",
        " \n",
        "k = 5\n",
        "kf = KFold(n_splits=k, random_state=None)\n",
        "clf = linear_model.LogisticRegression()\n",
        " \n",
        "acc_score = []\n",
        "\n",
        "# spliting in folds\n",
        "for train_index , test_index in kf.split(X):\n",
        "  X_train,X_test,y_train,y_test = train_test_split(x_total,y_total,test_size = 0.5,random_state = 1)\n",
        "  X_train,X_validation,y_train,y_validation = train_test_split(X_train,y_train,test_size = 0.4,random_state = 1)\n",
        "\n",
        " \n",
        "  clf.fit(X_train,y_train)\n",
        "  y_pred = clf.predict(X_test)\n",
        "  acc = accuracy_score(y_pred , y_test)\n",
        "  acc_score.append(acc)\n",
        "        \n",
        "  avg_acc_score = sum(acc_score)/k\n",
        " \n",
        "print('accuracy of each fold - {}'.format(acc_score))\n",
        "print('Avg accuracy : {}'.format(avg_acc_score))"
      ],
      "execution_count": null,
      "outputs": [
        {
          "output_type": "stream",
          "name": "stdout",
          "text": [
            "accuracy of each fold - [0.38202247191011235, 0.38202247191011235, 0.38202247191011235, 0.38202247191011235, 0.38202247191011235]\n",
            "Avg accuracy : 0.38202247191011235\n"
          ]
        }
      ]
    }
  ]
}